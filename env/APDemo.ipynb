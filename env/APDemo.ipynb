{
 "cells": [
  {
   "cell_type": "markdown",
   "id": "d001f534",
   "metadata": {
    "heading_collapsed": true
   },
   "source": [
    "#### Notebook setup"
   ]
  },
  {
   "cell_type": "code",
   "execution_count": 1,
   "id": "5a776232",
   "metadata": {
    "hidden": true
   },
   "outputs": [
    {
     "name": "stderr",
     "output_type": "stream",
     "text": [
      "/home/zhanga/miniconda3/envs/gazebo/lib/python3.9/site-packages/tqdm/auto.py:21: TqdmWarning: IProgress not found. Please update jupyter and ipywidgets. See https://ipywidgets.readthedocs.io/en/stable/user_install.html\n",
      "  from .autonotebook import tqdm as notebook_tqdm\n"
     ]
    }
   ],
   "source": [
    "%reload_ext autoreload\n",
    "%autoreload 2\n",
    "%matplotlib inline\n",
    "import time\n",
    "import warnings\n",
    "import os, sys\n",
    "from types import SimpleNamespace\n",
    "\n",
    "_lib_path, _abs_path = None, os.path.abspath('.')\n",
    "if os.path.dirname(_abs_path) == 'multirotor':\n",
    "    _lib_path = os.path.abspath(os.path.join(_abs_path, '..'))\n",
    "elif os.path.isdir('multirotor'):\n",
    "    _lib_path = _abs_path\n",
    "if _lib_path is not None and _lib_path not in sys.path:\n",
    "    sys.path.append(_lib_path)\n",
    "\n",
    "import matplotlib.pyplot as plt\n",
    "import gym\n",
    "import numpy as np\n",
    "from tqdm.auto import tqdm, trange\n",
    "try:\n",
    "    import pygazebo\n",
    "    from pygazebo.msg.v11.world_control_pb2 import WorldControl\n",
    "    from gym_env import RemoteOctorotor\n",
    "    from gazebo_comms import GazeboCommms\n",
    "    from msgs.messages_pb2 import Action, State\n",
    "except ImportError:\n",
    "    warnings.warn('Could not import pygazebo. Remote communication with gazebo back-end will not work.')\n",
    "\n",
    "from multirotor.helpers import control_allocation_matrix\n",
    "from multirotor.vehicle import MotorParams, VehicleParams, PropellerParams, SimulationParams\n",
    "from multirotor.control import PosController, AttController, AltController, Controller\n",
    "from multirotor.simulation import Multirotor, Propeller, Motor, Battery\n",
    "from multirotor.visualize import VehicleDrawing\n",
    "from multirotor.coords import body_to_inertial, inertial_to_body, direction_cosine_matrix, angular_to_euler_rate\n",
    "from multirotor.env import DynamicsMultirotorEnv as LocalOctorotor\n",
    "from multirotor.trajectories import Trajectory"
   ]
  },
  {
   "cell_type": "code",
   "execution_count": 2,
   "id": "421b284b",
   "metadata": {
    "hidden": true
   },
   "outputs": [],
   "source": [
    "# Plotting parameters\n",
    "SMALL_SIZE = 16\n",
    "MEDIUM_SIZE = 16\n",
    "BIGGER_SIZE = 20\n",
    "\n",
    "plt.rc('font', size=SMALL_SIZE)          # controls default text sizes\n",
    "plt.rc('axes', titlesize=MEDIUM_SIZE)     # fontsize of the axes title\n",
    "plt.rc('axes', labelsize=BIGGER_SIZE, titlesize=BIGGER_SIZE)    # fontsize of the x and y labels\n",
    "plt.rc('xtick', labelsize=MEDIUM_SIZE)    # fontsize of the tick labels\n",
    "plt.rc('ytick', labelsize=MEDIUM_SIZE)    # fontsize of the tick labels\n",
    "plt.rc('legend', fontsize=SMALL_SIZE)    # legend fontsize\n",
    "plt.rc('figure', titlesize=BIGGER_SIZE)  # fontsize of the figure title\n"
   ]
  },
  {
   "cell_type": "markdown",
   "id": "9a31149f",
   "metadata": {
    "heading_collapsed": true
   },
   "source": [
    "### Parameters"
   ]
  },
  {
   "cell_type": "code",
   "execution_count": 3,
   "id": "1ba2a2fe",
   "metadata": {
    "hidden": true
   },
   "outputs": [],
   "source": [
    "# Tarot T18 params\n",
    "mp = MotorParams(\n",
    "    moment_of_inertia=5e-5,\n",
    "    resistance=0.27,\n",
    "    k_emf=0.0265\n",
    ")\n",
    "pp = PropellerParams(\n",
    "    moment_of_inertia=1.86e-6,\n",
    "    use_thrust_constant=True,\n",
    "    k_thrust=9.8419e-05,\n",
    "    k_drag=1.8503e-06,\n",
    "    motor=mp\n",
    ")\n",
    "vp = VehicleParams(\n",
    "    propellers=[pp] * 8,\n",
    "    angles=np.linspace(0, -2*np.pi, num=8, endpoint=False) + 0.375 * np.pi,\n",
    "    distances=np.ones(8) * 0.635,\n",
    "    clockwise=[-1,1,-1,1,-1,1,-1,1],\n",
    "    mass=10.66,\n",
    "    inertia_matrix=np.asarray([\n",
    "        [0.2206, 0, 0],\n",
    "        [0, 0.2206, 0.],\n",
    "        [0, 0, 0.4238]\n",
    "    ])\n",
    ")\n",
    "sp = SimulationParams(0.0025, 9.81)"
   ]
  },
  {
   "cell_type": "markdown",
   "id": "6ffe2e5a",
   "metadata": {},
   "source": [
    "### Message Passing"
   ]
  },
  {
   "cell_type": "code",
   "execution_count": 4,
   "id": "47882bb2",
   "metadata": {},
   "outputs": [
    {
     "data": {
      "text/plain": [
       "[('/gazebo/server/control', 'gazebo.msgs.ServerControl'),\n",
       " ('/gazebo/test/atmosphere', 'gazebo.msgs.Atmosphere'),\n",
       " ('/gazebo/test/playback_control', 'gazebo.msgs.LogPlaybackControl'),\n",
       " ('/gazebo/test/undo_redo', 'gazebo.msgs.UndoRedo'),\n",
       " ('/gazebo/test/scene', 'gazebo.msgs.Scene'),\n",
       " ('/gazebo/test/request', 'gazebo.msgs.Request'),\n",
       " ('/gazebo/test/visual', 'gazebo.msgs.Visual'),\n",
       " ('/gazebo/test/physics/contacts', 'gazebo.msgs.Contacts'),\n",
       " ('/gazebo/test/world_stats', 'gazebo.msgs.WorldStatistics'),\n",
       " ('/tarot/motors', 'tarotPB.msgs.Vector8d'),\n",
       " ('/tarot/action', 'tarotPB.msgs.Action'),\n",
       " ('/gazebo/test/user_camera/pose', 'gazebo.msgs.Pose'),\n",
       " ('/gazebo/test/log/control', 'gazebo.msgs.LogControl'),\n",
       " ('/gazebo/test/user_cmd', 'gazebo.msgs.UserCmd'),\n",
       " ('/gazebo/test/joint', 'gazebo.msgs.Joint'),\n",
       " ('/gazebo/test/wind', 'gazebo.msgs.Wind'),\n",
       " ('/gazebo/test/user_cmd_stats', 'gazebo.msgs.UserCmdStats'),\n",
       " ('/gazebo/test/light/modify', 'gazebo.msgs.Light'),\n",
       " ('/gazebo/test/world_control', 'gazebo.msgs.WorldControl'),\n",
       " ('/gazebo/test/factory/light', 'gazebo.msgs.Light'),\n",
       " ('/gazebo/test/factory/light', 'gazebo.msgs.Light'),\n",
       " ('/gazebo/test/world_control', 'gazebo.msgs.WorldControl'),\n",
       " ('/gazebo/performance_metrics', 'gazebo.msgs.PerformanceMetrics'),\n",
       " ('/gazebo/test/factory', 'gazebo.msgs.Factory'),\n",
       " ('/gazebo/test/request', 'gazebo.msgs.Request'),\n",
       " ('/gazebo/test/selection', 'gazebo.msgs.Selection'),\n",
       " ('/gazebo/test/pose/info', 'gazebo.msgs.PosesStamped'),\n",
       " ('/gazebo/test/log/status', 'gazebo.msgs.LogStatus'),\n",
       " ('/gazebo/test/light/modify', 'gazebo.msgs.Light'),\n",
       " ('/gazebo/test/model/modify', 'gazebo.msgs.Model'),\n",
       " ('/gazebo/test/response', 'gazebo.msgs.Response'),\n",
       " ('/gazebo/test/pose/local/info', 'gazebo.msgs.PosesStamped'),\n",
       " ('/gazebo/test/gui', 'gazebo.msgs.GUI'),\n",
       " ('/gazebo/test/model/info', 'gazebo.msgs.Model'),\n",
       " ('/gazebo/world/modify', 'gazebo.msgs.WorldModify'),\n",
       " ('/gazebo/test/physics', 'gazebo.msgs.Physics'),\n",
       " ('/gazebo/test/model/modify', 'gazebo.msgs.Model'),\n",
       " ('/gazebo/test/diagnostics', 'gazebo.msgs.Diagnostics')]"
      ]
     },
     "execution_count": 4,
     "metadata": {},
     "output_type": "execute_result"
    }
   ],
   "source": [
    "gc = GazeboCommms()\n",
    "# List all topics gazebo is publishing to:\n",
    "gc.manager.publications()"
   ]
  },
  {
   "cell_type": "code",
   "execution_count": 5,
   "id": "7ef93bc8",
   "metadata": {},
   "outputs": [],
   "source": [
    "# Create a protobuf message\n",
    "a = Action()\n",
    "a.type = a.DYNAMICS\n",
    "a.values.extend([0., 0., 0., 0., 0., 0.])\n",
    "# We can send the message over TCP. However, we will not get the state vector\n",
    "# back in response, because the custom environment plugin is only listening on UDP.\n",
    "# gc.send_TCP(a, '/tarot/action')"
   ]
  },
  {
   "cell_type": "code",
   "execution_count": 6,
   "id": "dda4b5ef",
   "metadata": {},
   "outputs": [
    {
     "data": {
      "text/plain": [
       "reset: true\n",
       "state {\n",
       "  position: 1.0\n",
       "  position: 0.0\n",
       "  position: 1.0\n",
       "  velocity: 3.0\n",
       "  velocity: 0.0\n",
       "  velocity: 0.0\n",
       "  orientation: 0.0\n",
       "  orientation: 0.0\n",
       "  orientation: 0.0\n",
       "  angular_rate: 0.0\n",
       "  angular_rate: 0.0\n",
       "  angular_rate: 0.0\n",
       "}"
      ]
     },
     "execution_count": 6,
     "metadata": {},
     "output_type": "execute_result"
    }
   ],
   "source": [
    "# Reset\n",
    "a = Action()\n",
    "a.reset = True\n",
    "a.state.position.extend([1,0,1])\n",
    "a.state.velocity.extend([3,0,0])\n",
    "a.state.orientation.extend([0,0,0])\n",
    "a.state.angular_rate.extend([0,0,0])\n",
    "a\n",
    "# gc.send_TCP(a, '/tarot/action')"
   ]
  },
  {
   "cell_type": "code",
   "execution_count": 7,
   "id": "6158f2ce",
   "metadata": {
    "scrolled": true
   },
   "outputs": [
    {
     "data": {
      "text/plain": [
       "(None, Exception('Timeout reached waiting for response.'))"
      ]
     },
     "execution_count": 7,
     "metadata": {},
     "output_type": "execute_result"
    }
   ],
   "source": [
    "# Send action over UDP. The gazebo plugin will respond back with the state vector when getting a UDP message\n",
    "gc.send_UDP(a)"
   ]
  },
  {
   "cell_type": "code",
   "execution_count": 8,
   "id": "cec91ab3",
   "metadata": {},
   "outputs": [],
   "source": [
    "# Create and send a default gazebo message. These packets are directly handled\n",
    "# by gazebo, and not the custom plugin\n",
    "c = WorldControl()\n",
    "c.reset.all = True\n",
    "c.multi_step = 100\n",
    "gc.send_TCP(c, '/gazebo/test/world_control')"
   ]
  },
  {
   "cell_type": "markdown",
   "id": "907a4657",
   "metadata": {},
   "source": [
    "### AP Simulation"
   ]
  },
  {
   "cell_type": "code",
   "execution_count": 9,
   "id": "6b98f141",
   "metadata": {},
   "outputs": [],
   "source": [
    "import socket\n",
    "import time\n",
    "import json\n",
    "import struct\n",
    "from multirotor.coords import direction_cosine_matrix, body_to_inertial"
   ]
  },
  {
   "cell_type": "code",
   "execution_count": 10,
   "id": "ef9650c9",
   "metadata": {},
   "outputs": [],
   "source": [
    "def wind(t, m):\n",
    "    w_inertial = np.asarray([5 * np.sin(t * 2 * np.pi / 4000), 0, 0])\n",
    "    dcm = direction_cosine_matrix(*m.orientation)\n",
    "    return inertial_to_body(w_inertial, dcm)"
   ]
  },
  {
   "cell_type": "code",
   "execution_count": 11,
   "id": "ac241cba",
   "metadata": {},
   "outputs": [],
   "source": [
    "def changeToJSONString(curr_time, state, accel):\n",
    "    phys_time = curr_time\n",
    "    pos = state[0:3].tolist()\n",
    "    velo = state[3:6]\n",
    "    euler = state[6:9].tolist()\n",
    "    gyro = state[9:12].tolist()\n",
    "    accel = accel.tolist()\n",
    "\n",
    "    pos[2] = -1*pos[2]\n",
    "    pos[0], pos[1] = pos[1], pos[0]\n",
    "\n",
    "    dcm = direction_cosine_matrix(*euler)\n",
    "    v_inertial = body_to_inertial(velo, dcm).tolist()\n",
    "    v_inertial[2] = -1*v_inertial[2]\n",
    "    v_inertial[0], v_inertial[1] = v_inertial[1], v_inertial[0]\n",
    "\n",
    "    gyro[0], gyro[1] = gyro[1], gyro[0]\n",
    "    gyro[2] = -1*gyro[2]\n",
    "    euler[0], euler[1] = euler[1], euler[0]\n",
    "    euler[2] = -1*euler[2]\n",
    "\n",
    "    # Build JSON format\n",
    "    IMU_fmt = {\n",
    "        \"gyro\" : gyro,\n",
    "        \"accel_body\" : accel\n",
    "    }\n",
    "    JSON_fmt = {\n",
    "        \"timestamp\" : phys_time,\n",
    "        \"imu\" : IMU_fmt,\n",
    "        \"position\" : pos,\n",
    "        \"attitude\" : euler,\n",
    "        \"velocity\" : v_inertial\n",
    "    }\n",
    "\n",
    "    JSON_string = \"\\n\" + json.dumps(JSON_fmt,separators=(',', ':')) + \"\\n\"\n",
    "\n",
    "    return JSON_string\n"
   ]
  },
  {
   "cell_type": "code",
   "execution_count": 12,
   "id": "bbdc60e5",
   "metadata": {},
   "outputs": [],
   "source": [
    "def ap_sim(env, sock, steps=600000, disturbance=None):\n",
    "    command_logger = {}\n",
    "    state_logger = {}\n",
    "    \n",
    "    disturb_force, disturb_torque = 0., 0\n",
    "\n",
    "    curr_time = 0  # Get the current time in seconds\n",
    "    RATE_HZ = 400 #should be 400\n",
    "    TIME_STEP = 1/RATE_HZ\n",
    "    last_frame = -1\n",
    "    frame_count = 0\n",
    "    frame_time = time.time()\n",
    "    print_frame_count = 500\n",
    "\n",
    "    state = np.zeros(12)\n",
    "    \n",
    "    try:\n",
    "        for i in range(0, steps):\n",
    "            try:   \n",
    "                data, addr = sock.recvfrom(100)\n",
    "                parse_format = 'HHI16H'\n",
    "                magic = 18458\n",
    "                if len(data) != struct.calcsize(parse_format):\n",
    "                    print(\"got packet of len %u, expected %u\" % (len(data), struct.calcsize(parse_format)))\n",
    "                    continue\n",
    "                unpacked_data = struct.unpack(parse_format, data)\n",
    "                if magic != unpacked_data[0]:\n",
    "                    print(\"Incorrect protocol magic %u should be %u\" % (unpacked_data[0], magic))\n",
    "                    continue\n",
    "\n",
    "                frame_rate = unpacked_data[1]\n",
    "                frame_count = unpacked_data[2]\n",
    "                pwm = np.array(unpacked_data[3:11])\n",
    "\n",
    "                string_action = \" \".join(str(element) for element in pwm.tolist())\n",
    "\n",
    "                if frame_count < last_frame:\n",
    "                    print('Reset controller')\n",
    "                elif frame_count == last_frame:\n",
    "                    # print('Duplicate frame')\n",
    "                    continue\n",
    "                if frame_count != last_frame + 1 and last_frame != 0:\n",
    "                    print(\"Missed %u frames\" % (frame_count - last_frame))\n",
    "                    continue\n",
    "                last_frame = frame_count\n",
    "                \n",
    "                curr_time += TIME_STEP\n",
    "\n",
    "                action = (pwm-1000)*0.575\n",
    "\n",
    "                f, t = m.get_forces_torques(action, state)\n",
    "                state, *_ = env.step(np.asarray([*f, *t]))\n",
    "\n",
    "                # These functions don't work for some reason??\n",
    "                # accel = env.vehicle.dxdt_dynamics(0, state, [*f, *t])[3:6]\n",
    "                # accel = env.vehicle._dxdt[3:6]\n",
    "                accel = np.array([0, 0, -9.8])\n",
    "                if disturbance is not None:\n",
    "                    accel[0] += disturb_force[0]\n",
    "                    accel[1] += disturb_force[1]\n",
    "                    accel[2] += disturb_force[2] #change accel z frame to body\n",
    "                JSON_string = changeToJSONString(curr_time, state, accel)\n",
    "\n",
    "                sock.sendto(bytes(JSON_string,\"ascii\"), addr)\n",
    "                \n",
    "                if action[0] != 0:\n",
    "                    command_logger[i] = action.tolist()\n",
    "                    state_logger[i] = state.tolist()\n",
    "\n",
    "            except json.JSONDecodeError:\n",
    "                print(\"Invalid JSON data received\")\n",
    "            except socket.timeout:\n",
    "                continue\n",
    "            except KeyboardInterrupt:\n",
    "                sock.close()\n",
    "            except Exception as e:\n",
    "                if not isinstance(e, OSError):\n",
    "                    raise e\n",
    "                sock.close()\n",
    "                break\n",
    "    finally:\n",
    "        sock.close()\n",
    "        \n",
    "    return command_logger, state_logger\n"
   ]
  },
  {
   "cell_type": "code",
   "execution_count": 13,
   "id": "de282cf4",
   "metadata": {},
   "outputs": [
    {
     "name": "stderr",
     "output_type": "stream",
     "text": [
      "Exception in callback Manager.handle_normal_read(<Future finis...onnectError()>)\n",
      "handle: <Handle Manager.handle_normal_read(<Future finis...onnectError()>)>\n",
      "Traceback (most recent call last):\n",
      "  File \"/home/zhanga/miniconda3/envs/gazebo/lib/python3.9/asyncio/events.py\", line 80, in _run\n",
      "    self._context.run(self._callback, *self._args)\n",
      "  File \"/home/zhanga/miniconda3/envs/gazebo/lib/python3.9/site-packages/pygazebo/pygazebo.py\", line 644, in handle_normal_read\n",
      "    data = future.result()\n",
      "  File \"/home/zhanga/miniconda3/envs/gazebo/lib/python3.9/asyncio/futures.py\", line 201, in result\n",
      "    raise self._exception\n",
      "  File \"/home/zhanga/miniconda3/envs/gazebo/lib/python3.9/site-packages/pygazebo/pygazebo.py\", line 363, in handle_read\n",
      "    data = future.result()\n",
      "  File \"/home/zhanga/miniconda3/envs/gazebo/lib/python3.9/asyncio/futures.py\", line 201, in result\n",
      "    raise self._exception\n",
      "  File \"/home/zhanga/miniconda3/envs/gazebo/lib/python3.9/site-packages/pygazebo/pygazebo.py\", line 308, in handle_read_raw_header\n",
      "    raise DisconnectError()\n",
      "pygazebo.pygazebo.DisconnectError\n",
      "Exception in callback Manager._read_server_data.<locals>.<lambda>(<Future finis...onnectError()>) at /home/zhanga/miniconda3/envs/gazebo/lib/python3.9/site-packages/pygazebo/pygazebo.py:661\n",
      "handle: <Handle Manager._read_server_data.<locals>.<lambda>(<Future finis...onnectError()>) at /home/zhanga/miniconda3/envs/gazebo/lib/python3.9/site-packages/pygazebo/pygazebo.py:661>\n",
      "Traceback (most recent call last):\n",
      "  File \"/home/zhanga/miniconda3/envs/gazebo/lib/python3.9/asyncio/events.py\", line 80, in _run\n",
      "    self._context.run(self._callback, *self._args)\n",
      "  File \"/home/zhanga/miniconda3/envs/gazebo/lib/python3.9/site-packages/pygazebo/pygazebo.py\", line 661, in <lambda>\n",
      "    lambda future: self._handle_server_data(future, connection))\n",
      "  File \"/home/zhanga/miniconda3/envs/gazebo/lib/python3.9/site-packages/pygazebo/pygazebo.py\", line 664, in _handle_server_data\n",
      "    message = future.result()\n",
      "  File \"/home/zhanga/miniconda3/envs/gazebo/lib/python3.9/asyncio/futures.py\", line 201, in result\n",
      "    raise self._exception\n",
      "  File \"/home/zhanga/miniconda3/envs/gazebo/lib/python3.9/site-packages/pygazebo/pygazebo.py\", line 363, in handle_read\n",
      "    data = future.result()\n",
      "  File \"/home/zhanga/miniconda3/envs/gazebo/lib/python3.9/asyncio/futures.py\", line 201, in result\n",
      "    raise self._exception\n",
      "  File \"/home/zhanga/miniconda3/envs/gazebo/lib/python3.9/site-packages/pygazebo/pygazebo.py\", line 308, in handle_read_raw_header\n",
      "    raise DisconnectError()\n",
      "pygazebo.pygazebo.DisconnectError\n",
      "Exception in callback Manager.handle_normal_read(<Future finis...onnectError()>)\n",
      "handle: <Handle Manager.handle_normal_read(<Future finis...onnectError()>)>\n",
      "Traceback (most recent call last):\n",
      "  File \"/home/zhanga/miniconda3/envs/gazebo/lib/python3.9/asyncio/events.py\", line 80, in _run\n",
      "    self._context.run(self._callback, *self._args)\n",
      "  File \"/home/zhanga/miniconda3/envs/gazebo/lib/python3.9/site-packages/pygazebo/pygazebo.py\", line 644, in handle_normal_read\n",
      "    data = future.result()\n",
      "  File \"/home/zhanga/miniconda3/envs/gazebo/lib/python3.9/asyncio/futures.py\", line 201, in result\n",
      "    raise self._exception\n",
      "  File \"/home/zhanga/miniconda3/envs/gazebo/lib/python3.9/site-packages/pygazebo/pygazebo.py\", line 363, in handle_read\n",
      "    data = future.result()\n",
      "  File \"/home/zhanga/miniconda3/envs/gazebo/lib/python3.9/asyncio/futures.py\", line 201, in result\n",
      "    raise self._exception\n",
      "  File \"/home/zhanga/miniconda3/envs/gazebo/lib/python3.9/site-packages/pygazebo/pygazebo.py\", line 308, in handle_read_raw_header\n",
      "    raise DisconnectError()\n",
      "pygazebo.pygazebo.DisconnectError\n"
     ]
    }
   ],
   "source": [
    "\n",
    "UDP_IP = \"127.0.0.1\"  # Listen on all available interfaces\n",
    "UDP_PORT = 9002\n",
    "\n",
    "sock = socket.socket(socket.AF_INET, socket.SOCK_DGRAM)\n",
    "sock.bind((UDP_IP, UDP_PORT))\n",
    "sock.settimeout(0.1)  # Set a timeout value of 1 second on the socket object\n",
    "\n",
    "m = Multirotor(vp, sp)\n",
    "m.reset()\n",
    "env = RemoteOctorotor(vehicle=m)\n",
    "env.reset()\n",
    "action_log, state_log = ap_sim(env, sock, steps=600000, disturbance=None)\n",
    "\n",
    "sock.close()"
   ]
  },
  {
   "cell_type": "markdown",
   "id": "ddec3a70",
   "metadata": {},
   "source": [
    "### Logging"
   ]
  },
  {
   "cell_type": "code",
   "execution_count": null,
   "id": "eb2dbb00",
   "metadata": {},
   "outputs": [],
   "source": [
    "def printLogMotor(log, lower=0, upper=700):\n",
    "    element_data = {}\n",
    "\n",
    "    first_key = next(iter(log))\n",
    "    for index in range(len(log[first_key])):\n",
    "        element_data[index] = [data[index] for data in log.values()]\n",
    "\n",
    "    plt.figure(figsize=(15, 5))\n",
    "\n",
    "    # Plot the data for each element\n",
    "    for index, data in element_data.items():\n",
    "        # Filter data based on condition (value > 2000)\n",
    "        filtered_data = [value if value >= lower and value <= upper else None for value in data]\n",
    "        plt.plot(list(log.keys()), filtered_data, label=f\"Motor {index+1}\")\n",
    "\n",
    "    # Set plot labels and title\n",
    "    plt.xlabel(\"Frames\")\n",
    "    plt.ylabel(\"Motor command\")\n",
    "    plt.title(\"Motor Commands over time\")\n",
    "\n",
    "    # Add legend\n",
    "    plt.legend(loc='upper left', fontsize='small')\n",
    "\n",
    "    # Display the plot\n",
    "    plt.show()"
   ]
  },
  {
   "cell_type": "code",
   "execution_count": null,
   "id": "9c2ac131",
   "metadata": {},
   "outputs": [],
   "source": [
    "def printStateLog(log):\n",
    "    num_motors = len(log[next(iter(log))])\n",
    "\n",
    "    fig, axs = plt.subplots(4, 3, figsize=(15, 15))\n",
    "\n",
    "    labels = [\"x\", \"y\", \"z\", \"vx\", \"vy\", \"vz\", \"roll\", \"pitch\", \"yaw\", \"vroll\", \"vpitch\", \"vyaw\"]\n",
    "\n",
    "    # Loop through each motor and plot it in the corresponding subplot\n",
    "    for motor_index, ax in enumerate(axs.flatten()):\n",
    "        if motor_index < num_motors:\n",
    "            # Filter and plot the data for the current motor\n",
    "            filtered_data = [data[motor_index] for data in log.values()]\n",
    "            ax.plot(list(log.keys()), filtered_data, label=labels[motor_index])\n",
    "\n",
    "            # Set plot labels and title\n",
    "            ax.set_xlabel(\"Frames\")\n",
    "            ax.set_ylabel(labels[motor_index])\n",
    "            ax.set_title(f\"{labels[motor_index]} over time\")\n",
    "\n",
    "            # Add legend\n",
    "            ax.legend(loc='upper left', fontsize='small')\n",
    "\n",
    "    # Adjust layout to avoid overlapping titles and labels\n",
    "    plt.tight_layout()\n",
    "\n",
    "    # Display the subplots\n",
    "    plt.show()"
   ]
  },
  {
   "cell_type": "code",
   "execution_count": null,
   "id": "722f083d",
   "metadata": {},
   "outputs": [],
   "source": [
    "printStateLog(state_log)"
   ]
  },
  {
   "cell_type": "code",
   "execution_count": null,
   "id": "23e12540",
   "metadata": {},
   "outputs": [],
   "source": [
    "printLogMotor(action_log)"
   ]
  }
 ],
 "metadata": {
  "kernelspec": {
   "display_name": "Python 3 (ipykernel)",
   "language": "python",
   "name": "python3"
  },
  "language_info": {
   "codemirror_mode": {
    "name": "ipython",
    "version": 3
   },
   "file_extension": ".py",
   "mimetype": "text/x-python",
   "name": "python",
   "nbconvert_exporter": "python",
   "pygments_lexer": "ipython3",
   "version": "3.9.16"
  }
 },
 "nbformat": 4,
 "nbformat_minor": 5
}
