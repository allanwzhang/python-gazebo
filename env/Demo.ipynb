{
 "cells": [
  {
   "cell_type": "markdown",
   "id": "d001f534",
   "metadata": {
    "heading_collapsed": true
   },
   "source": [
    "#### Notebook setup"
   ]
  },
  {
   "cell_type": "code",
   "execution_count": null,
   "id": "5a776232",
   "metadata": {
    "hidden": true
   },
   "outputs": [],
   "source": [
    "%reload_ext autoreload\n",
    "%autoreload 2\n",
    "%matplotlib inline\n",
    "import time\n",
    "import warnings\n",
    "import os, sys\n",
    "from types import SimpleNamespace\n",
    "\n",
    "_lib_path, _abs_path = None, os.path.abspath('.')\n",
    "if os.path.dirname(_abs_path) == 'multirotor':\n",
    "    _lib_path = os.path.abspath(os.path.join(_abs_path, '..'))\n",
    "elif os.path.isdir('multirotor'):\n",
    "    _lib_path = _abs_path\n",
    "if _lib_path is not None and _lib_path not in sys.path:\n",
    "    sys.path.append(_lib_path)\n",
    "\n",
    "import matplotlib.pyplot as plt\n",
    "import gym\n",
    "import numpy as np\n",
    "from tqdm.auto import tqdm, trange\n",
    "try:\n",
    "    import pygazebo\n",
    "    from pygazebo.msg.v11.world_control_pb2 import WorldControl\n",
    "    from gym_env import RemoteOctorotor\n",
    "    from gazebo_comms import GazeboCommms\n",
    "    from msgs.messages_pb2 import Action, State\n",
    "except ImportError:\n",
    "    warnings.warn('Could not import pygazebo. Remote communication with gazebo back-end will not work.')\n",
    "\n",
    "from multirotor.helpers import control_allocation_matrix\n",
    "from multirotor.vehicle import MotorParams, VehicleParams, PropellerParams, SimulationParams\n",
    "from multirotor.control import PosController, AttController, AltController, Controller\n",
    "from multirotor.simulation import Multirotor, Propeller, Motor, Battery\n",
    "from multirotor.visualize import VehicleDrawing\n",
    "from multirotor.coords import body_to_inertial, inertial_to_body, direction_cosine_matrix, angular_to_euler_rate\n",
    "from multirotor.env import DynamicsMultirotorEnv as LocalOctorotor\n",
    "from multirotor.trajectories import Trajectory"
   ]
  },
  {
   "cell_type": "code",
   "execution_count": null,
   "id": "421b284b",
   "metadata": {
    "hidden": true
   },
   "outputs": [],
   "source": [
    "# Plotting parameters\n",
    "SMALL_SIZE = 16\n",
    "MEDIUM_SIZE = 16\n",
    "BIGGER_SIZE = 20\n",
    "\n",
    "plt.rc('font', size=SMALL_SIZE)          # controls default text sizes\n",
    "plt.rc('axes', titlesize=MEDIUM_SIZE)     # fontsize of the axes title\n",
    "plt.rc('axes', labelsize=BIGGER_SIZE, titlesize=BIGGER_SIZE)    # fontsize of the x and y labels\n",
    "plt.rc('xtick', labelsize=MEDIUM_SIZE)    # fontsize of the tick labels\n",
    "plt.rc('ytick', labelsize=MEDIUM_SIZE)    # fontsize of the tick labels\n",
    "plt.rc('legend', fontsize=SMALL_SIZE)    # legend fontsize\n",
    "plt.rc('figure', titlesize=BIGGER_SIZE)  # fontsize of the figure title\n"
   ]
  },
  {
   "cell_type": "markdown",
   "id": "9a31149f",
   "metadata": {
    "heading_collapsed": true
   },
   "source": [
    "### Parameters"
   ]
  },
  {
   "cell_type": "code",
   "execution_count": null,
   "id": "1ba2a2fe",
   "metadata": {
    "hidden": true
   },
   "outputs": [],
   "source": [
    "# Tarot T18 params\n",
    "mp = MotorParams(\n",
    "    moment_of_inertia=5e-5,\n",
    "    resistance=0.27,\n",
    "    k_emf=0.0265\n",
    ")\n",
    "pp = PropellerParams(\n",
    "    moment_of_inertia=1.86e-6,\n",
    "    use_thrust_constant=True,\n",
    "    k_thrust=9.8419e-05,\n",
    "    k_drag=1.8503e-06,\n",
    "    motor=mp\n",
    ")\n",
    "vp = VehicleParams(\n",
    "    propellers=[pp] * 8,\n",
    "    angles=np.linspace(0, -2*np.pi, num=8, endpoint=False) + 0.375 * np.pi,\n",
    "    distances=np.ones(8) * 0.635,\n",
    "    clockwise=[-1,1,-1,1,-1,1,-1,1],\n",
    "    mass=10.66,\n",
    "    inertia_matrix=np.asarray([\n",
    "        [0.2206, 0, 0],\n",
    "        [0, 0.2206, 0.],\n",
    "        [0, 0, 0.4238]\n",
    "    ])\n",
    ")\n",
    "sp = SimulationParams(0.001, 9.81)"
   ]
  },
  {
   "cell_type": "markdown",
   "id": "17f3b34d",
   "metadata": {},
   "source": [
    "### Multirotor"
   ]
  },
  {
   "cell_type": "markdown",
   "id": "0505e4f6",
   "metadata": {},
   "source": [
    "#### Motor"
   ]
  },
  {
   "cell_type": "code",
   "execution_count": null,
   "id": "b3128c10",
   "metadata": {},
   "outputs": [],
   "source": [
    "motor = Motor(mp, sp)"
   ]
  },
  {
   "cell_type": "code",
   "execution_count": null,
   "id": "d341678e",
   "metadata": {},
   "outputs": [],
   "source": [
    "for signal in [2, 4, 6, 8, 10, 12, 14, 16, 18, 20]:\n",
    "    speeds = []\n",
    "    motor.reset()\n",
    "    for i in range(200):\n",
    "        speeds.append(motor.step(signal))\n",
    "    plt.plot(speeds, label='%dV' % signal)\n",
    "plt.legend(ncol=2)\n",
    "plt.ylabel('Speed rad/s')\n",
    "plt.xlabel('Time /ms')"
   ]
  },
  {
   "cell_type": "markdown",
   "id": "6fb2f5c9",
   "metadata": {
    "heading_collapsed": true
   },
   "source": [
    "#### Propeller"
   ]
  },
  {
   "cell_type": "code",
   "execution_count": null,
   "id": "1669687b",
   "metadata": {
    "hidden": true
   },
   "outputs": [],
   "source": [
    "prop = Propeller(pp, sp)\n",
    "speeds = np.linspace(0, 600, num=100)\n",
    "thrusts = []\n",
    "for s in speeds: thrusts.append(prop.thrust(s))\n",
    "plt.plot(speeds, thrusts, label='Thrust /N')\n",
    "plt.xlabel('Speed rad/s')\n",
    "plt.ylabel('Thrust /N')"
   ]
  },
  {
   "cell_type": "markdown",
   "id": "e7bb489d",
   "metadata": {},
   "source": [
    "#### Multirotor"
   ]
  },
  {
   "cell_type": "code",
   "execution_count": null,
   "id": "a7197b2e",
   "metadata": {},
   "outputs": [],
   "source": [
    "m = Multirotor(vp, sp)\n",
    "m.reset()"
   ]
  },
  {
   "cell_type": "code",
   "execution_count": null,
   "id": "30aa5565",
   "metadata": {},
   "outputs": [],
   "source": [
    "action = m.allocate_control(m.weight, np.asarray([0, 1e-1, 0]))\n",
    "for i in range(500): m.step_speeds(action)\n",
    "print(m.orientation * 180 / np.pi)"
   ]
  },
  {
   "cell_type": "code",
   "execution_count": null,
   "id": "3216b929",
   "metadata": {},
   "outputs": [],
   "source": [
    "m.reset()\n",
    "ctrl = Controller(\n",
    "    PosController(0.1, 0.0, 0., 1., dt=1e-3, vehicle=m),\n",
    "    AttController(np.asarray([10., 10., 0]), 0, 0., 1., dt=1e-3, vehicle=m),\n",
    "    AltController(10,0,0,1, dt=1e-3, vehicle=m)\n",
    ")\n",
    "\n",
    "\n",
    "positions = []\n",
    "errs = []\n",
    "alloc_th = []\n",
    "alloc_to = []\n",
    "orientations = []\n",
    "actions = []\n",
    "\n",
    "targets = [[0,0,2], [0,10,2], [10,10,2], [10,0,2], [0,0,0]]\n",
    "for i in trange(len(targets), leave=False):\n",
    "    ref = np.asarray([*targets[i], 0.])\n",
    "    # Get prescribed dynamics for system\n",
    "    dynamics = ctrl.step(ref)\n",
    "    thrust, torques = dynamics[0], dynamics[1:]\n",
    "    errs.append(ctrl.ctrl_p.err)\n",
    "    alloc_th.append(thrust)\n",
    "    alloc_to.append(torques)\n",
    "    # Convert dynamics into motor RPMs\n",
    "    action = m.allocate_control(thrust, torques)\n",
    "    actions.append(action)\n",
    "    m.step_speeds(action)\n",
    "    positions.append(m.position)\n",
    "    orientations.append(m.orientation)\n",
    "    if i >= 60000: break\n",
    "\n",
    "positions = np.asarray(positions)\n",
    "errs = np.asarray(errs)\n",
    "alloc_th = np.asarray(alloc_th)\n",
    "alloc_to = np.asarray(alloc_to)\n",
    "orientations = np.asarray(orientations)\n",
    "actions = np.asarray(actions)"
   ]
  },
  {
   "cell_type": "code",
   "execution_count": null,
   "id": "a045fed5",
   "metadata": {},
   "outputs": [],
   "source": [
    "plt.figure(figsize=(14,9))\n",
    "plt.subplot(1,2,1)\n",
    "for p,l, c in zip(positions.T, 'xyz', 'rgb'):\n",
    "    plt.plot(p, label=l, c=c)\n",
    "lines = plt.gca().lines\n",
    "plt.twinx()\n",
    "for p,l,c in zip(orientations.T, ('roll', 'pitch', 'yaw'), 'cmy'):\n",
    "    plt.plot(p * 180 / np.pi, label=l, ls=':', c=c)\n",
    "plt.legend(handles=plt.gca().lines+lines)\n",
    "\n",
    "plt.subplot(1,2,2)\n",
    "l = plt.plot(alloc_th, label='Ctrl Thrust')\n",
    "plt.twinx()\n",
    "for i, c, a in zip(range(3), 'rgb', 'xyz'):\n",
    "    plt.plot(alloc_to[:,i], label='Ctrl Torque %s' % a, c=c)\n",
    "plt.legend(handles=plt.gca().lines + l)"
   ]
  },
  {
   "cell_type": "markdown",
   "id": "6ffe2e5a",
   "metadata": {},
   "source": [
    "### Message Passing"
   ]
  },
  {
   "cell_type": "code",
   "execution_count": null,
   "id": "47882bb2",
   "metadata": {},
   "outputs": [],
   "source": [
    "gc = GazeboCommms()\n",
    "# List all topics gazebo is publishing to:\n",
    "gc.manager.publications()"
   ]
  },
  {
   "cell_type": "code",
   "execution_count": null,
   "id": "7ef93bc8",
   "metadata": {},
   "outputs": [],
   "source": [
    "# Create a protobuf message\n",
    "a = Action()\n",
    "a.type = a.DYNAMICS\n",
    "a.values.extend([0., 0., 0., 0., 0., 0.])\n",
    "# We can send the message over TCP. However, we will not get the state vector\n",
    "# back in response, because the custom environment plugin is only listening on UDP.\n",
    "# gc.send_TCP(a, '/tarot/action')"
   ]
  },
  {
   "cell_type": "code",
   "execution_count": null,
   "id": "dda4b5ef",
   "metadata": {},
   "outputs": [],
   "source": [
    "# Reset\n",
    "a = Action()\n",
    "a.reset = True\n",
    "a.state.position.extend([1,0,1])\n",
    "a.state.velocity.extend([3,0,0])\n",
    "a.state.orientation.extend([0,0,0])\n",
    "a.state.angular_rate.extend([0,0,0])\n",
    "a\n",
    "# gc.send_TCP(a, '/tarot/action')"
   ]
  },
  {
   "cell_type": "code",
   "execution_count": null,
   "id": "6158f2ce",
   "metadata": {
    "scrolled": true
   },
   "outputs": [],
   "source": [
    "# Send action over UDP. The gazebo plugin will respond back with the state vector when getting a UDP message\n",
    "gc.send_UDP(a)"
   ]
  },
  {
   "cell_type": "code",
   "execution_count": null,
   "id": "cec91ab3",
   "metadata": {},
   "outputs": [],
   "source": [
    "# Create and send a default gazebo message. These packets are directly handled\n",
    "# by gazebo, and not the custom plugin\n",
    "c = WorldControl()\n",
    "c.reset.all = True\n",
    "c.multi_step = 100\n",
    "gc.send_TCP(c, '/gazebo/test/world_control')"
   ]
  },
  {
   "cell_type": "markdown",
   "id": "9eb34672",
   "metadata": {},
   "source": [
    "### Simulation"
   ]
  },
  {
   "cell_type": "code",
   "execution_count": null,
   "id": "f5f52df4",
   "metadata": {},
   "outputs": [],
   "source": [
    "# def wind(t, m):\n",
    "#     w_inertial = np.asarray([5 * np.sin(t * 2 * np.pi / 4000), 0, 0])\n",
    "#     dcm = direction_cosine_matrix(*m.orientation)\n",
    "#     return inertial_to_body(w_inertial, dcm)[:2]\n",
    "wind = lambda t, m: [0, 0]"
   ]
  },
  {
   "cell_type": "code",
   "execution_count": null,
   "id": "a98de44f",
   "metadata": {
    "scrolled": true
   },
   "outputs": [],
   "source": [
    "m = Multirotor(vp, sp)\n",
    "m.reset()\n",
    "env = RemoteOctorotor(vehicle=m)\n",
    "env.reset()\n",
    "# env = LocalOctorotor(vehicle=m)\n",
    "# env.vehicle.state[2] = 1.\n",
    "traj = Trajectory([[0,0,2], [15,0,2], [15,15,2], [0,15,2], [0,0,2]],\n",
    "                  env.vehicle, proximity=2, resolution=None)\n",
    "\n",
    "for _ in range(5000):\n",
    "    state, *_ = env.step(np.asarray([0., 0., vp.mass * sp.g * 1.01, 0., 0., 0.]))"
   ]
  },
  {
   "cell_type": "code",
   "execution_count": null,
   "id": "dea77bcb",
   "metadata": {},
   "outputs": [],
   "source": [
    "ctrl = Controller(\n",
    "    # (Outer) Position controller has low sensitivity\n",
    "    PosController(0.15, 0.02, 0., 1., dt=1e-3, vehicle=m),\n",
    "    # (Inner) Attitude controller is more responsive (except for yaw, which we are not controlling)\n",
    "    AttController(np.asarray([50., 50., 2.]),\n",
    "                  np.asarray([2., 2., 2.]),\n",
    "                  np.asarray([0., 0., 0.]), 1., dt=1e-3, vehicle=m),\n",
    "    # Altitude controller is more responsive as well\n",
    "    AltController(50, 2, 0, 1, dt=1e-3, vehicle=m)\n",
    ")\n",
    "      \n",
    "targets = []\n",
    "actions = []\n",
    "speeds = []\n",
    "positions = []\n",
    "velocities = []\n",
    "orientations = []\n",
    "errs = SimpleNamespace()\n",
    "errs.pos = SimpleNamespace()\n",
    "errs.pos.p, errs.pos.i, errs.pos.d = [], [], []\n",
    "errs.att = SimpleNamespace()\n",
    "errs.att.p, errs.att.i, errs.att.d = [], [], []\n",
    "alloc_errs = []\n",
    "alloc_th = []\n",
    "alloc_to = []\n",
    "thrusts = []\n",
    "\n",
    "for i, pos in enumerate(traj):\n",
    "    if i==60000: break\n",
    "    # Generate reference for controller\n",
    "    ref = np.asarray([*pos, 0.])\n",
    "    # Get prescribed dynamics for system as thrust and torques\n",
    "    dynamics = ctrl.step(ref)\n",
    "    thrust, torques = dynamics[0], dynamics[1:]\n",
    "    # Allocate control: Convert dynamics into motor rad/s\n",
    "    action = m.allocate_control(thrust, torques)\n",
    "    # Add any faults/restrictions to motor dynamics\n",
    "    action = np.clip(action, a_min=0, a_max=400)\n",
    "    # if i > 30000: action[3] = min(action[3], 300)\n",
    "    # Get resultant forces/torques given propeller states\n",
    "    f, t = m.get_forces_torques(action, state)\n",
    "    # Add environmental disturbances\n",
    "    f[:2] += wind(i, env.vehicle)\n",
    "    # Send dynamics to environment\n",
    "    state, *_ = env.step(np.asarray([*f, *t]))\n",
    "    \n",
    "    targets.append(pos)\n",
    "    for (c, e) in zip((ctrl.ctrl_p, ctrl.ctrl_a), (errs.pos, errs.att)):\n",
    "        e.p.append(c.err_p)\n",
    "        e.i.append(c.err_i)\n",
    "        e.d.append(c.err_d)\n",
    "    alloc_th.append(thrust)\n",
    "    alloc_to.append(torques)\n",
    "    alloc_errs.append(np.asarray([thrust, *torques]) - m.alloc @ action**2)\n",
    "    actions.append(action)\n",
    "    # speeds.append([motor.rpm for motor in m.propellers])\n",
    "    positions.append(state[:3])\n",
    "    velocities.append(state[3:6])\n",
    "    orientations.append(state[6:9])\n",
    "\n",
    "    if np.any(np.abs(m.orientation[:2]) > np.pi/6): break\n",
    "\n",
    "targets = np.asarray(targets)\n",
    "positions = np.asarray(positions)\n",
    "velocities = np.asarray(velocities)\n",
    "speeds = np.asarray(speeds)\n",
    "orientations = np.asarray(orientations) * 180 / np.pi\n",
    "for e in (errs.pos, errs.att):\n",
    "    e.p = np.asarray(e.p)\n",
    "    e.i = np.asarray(e.i)\n",
    "    e.d = np.asarray(e.d)\n",
    "alloc_errs = np.asarray(alloc_errs)\n",
    "alloc_th = np.asarray(alloc_th)\n",
    "alloc_to = np.asarray(alloc_to)\n",
    "actions = np.asarray(actions)"
   ]
  },
  {
   "cell_type": "code",
   "execution_count": null,
   "id": "81a8043e",
   "metadata": {
    "scrolled": true
   },
   "outputs": [],
   "source": [
    "%matplotlib inline\n",
    "plt.figure(figsize=(21,10.5))\n",
    "plot_grid = (3,3)\n",
    "plt.subplot(*plot_grid,1)\n",
    "\n",
    "plt.plot(positions[:, 0], label='x', c='r')\n",
    "plt.plot(targets[:len(positions), 0], c='r', ls=':')\n",
    "plt.plot(positions[:, 1], label='y', c='g')\n",
    "plt.plot(targets[:len(positions), 1], c='g', ls=':')\n",
    "plt.plot(positions[:, 2], label='z', c='b')\n",
    "lines = plt.gca().lines[::2]\n",
    "plt.ylabel('Position /m')\n",
    "plt.twinx()\n",
    "plt.plot(orientations[:, 0], label='roll', c='c', ls=':')\n",
    "plt.plot(orientations[:, 1], label='pitch', c='m', ls=':')\n",
    "plt.plot(orientations[:, 2], label='yaw', c='y', ls=':')\n",
    "plt.ylabel('Orientation /deg')\n",
    "plt.legend(handles=plt.gca().lines + lines, ncol=2)\n",
    "plt.title('Position and Orientation')\n",
    "\n",
    "plt.subplot(*plot_grid,2)\n",
    "for i in range(actions.shape[1]):\n",
    "    l, = plt.plot(actions[:,i], label='prop %d' % i)\n",
    "#     plt.plot(speeds[:,i], c=l.get_c())\n",
    "lines = plt.gca().lines\n",
    "plt.legend(handles=lines, ncol=2)\n",
    "plt.title('Motor speeds /RPM')\n",
    "\n",
    "\n",
    "plt.subplot(*plot_grid,3)\n",
    "v_world = np.zeros_like(velocities)\n",
    "for i, (v, o) in enumerate(zip(velocities, orientations)):\n",
    "    dcm = direction_cosine_matrix(*o)\n",
    "    v_world[i] = body_to_inertial(v, dcm)\n",
    "for i, c, a in zip(range(3), 'rgb', 'xyz'):\n",
    "    plt.plot(v_world[:,i], label='Velocity %s' % a, c=c)\n",
    "#     plt.plot(velocities[:,i], label='Velocity %s' % a, c=c)\n",
    "plt.legend()\n",
    "plt.title('Velocities')\n",
    "\n",
    "plt.subplot(*plot_grid,4)\n",
    "plt.title('Controller allocated dynamics')\n",
    "l = plt.plot(alloc_th, label='Ctrl Thrust')\n",
    "plt.ylabel('Force /N')\n",
    "plt.twinx()\n",
    "for i, c, a in zip(range(3), 'rgb', 'xyz'):\n",
    "    plt.plot(alloc_to[:,i], label='Ctrl Torque %s' % a, c=c)\n",
    "plt.ylabel('Torque /Nm')\n",
    "plt.legend(handles=plt.gca().lines + l, ncol=2)\n",
    "\n",
    "plt.subplot(*plot_grid,5)\n",
    "lines = plt.plot(alloc_errs[:, 0], label='Thrust err', c='b')\n",
    "plt.ylabel('Thrust /N')\n",
    "plt.twinx()\n",
    "plt.plot(alloc_errs[:, 1], label='Torque x err', ls=':')\n",
    "plt.plot(alloc_errs[:, 2], label='Torque y err', ls=':')\n",
    "plt.plot(alloc_errs[:, 3], label='Torque z err', ls=':')\n",
    "plt.legend(handles = plt.gca().lines + lines, ncol=2)\n",
    "plt.ylabel('Torque /Nm')\n",
    "plt.title('Allocation Errors')\n",
    "\n",
    "plt.subplot(*plot_grid,6)\n",
    "plt.plot(targets[:len(positions),0], targets[:len(positions),1], label='Prescribed traj')\n",
    "plt.plot(positions[:,0], positions[:,1], label='Actual traj')\n",
    "plt.gca().set_aspect('equal', 'box')\n",
    "plt.title('XY positions /m')\n",
    "plt.legend()\n",
    "\n",
    "plt.tight_layout()"
   ]
  },
  {
   "cell_type": "code",
   "execution_count": null,
   "id": "c17d8b15",
   "metadata": {
    "scrolled": false
   },
   "outputs": [],
   "source": [
    "%matplotlib inline\n",
    "lines = []\n",
    "plt.figure(figsize=(21,24))\n",
    "plt.subplot(6,1,1)\n",
    "plt.plot(errs.pos.p[:,0], label='Pos-x P', c='r', ls='-')\n",
    "plt.plot(errs.pos.p[:,1], label='Pos-y P', c='g', ls='-')\n",
    "lines += plt.gca().lines\n",
    "plt.title('Position P errors')\n",
    "plt.subplot(6,1, 2)\n",
    "plt.plot(errs.pos.i[:, 0], label='Pos-x I', c='r', ls=':')\n",
    "plt.plot(errs.pos.i[:, 1], label='Pos-y I', c='g', ls=':')\n",
    "lines += plt.gca().lines\n",
    "plt.title('Position I errors')\n",
    "plt.subplot(6,1, 3)\n",
    "plt.plot(errs.pos.d[:, 0], label='Pos-x D', c='r', ls='-.')\n",
    "plt.plot(errs.pos.d[:, 1], label='Pos-y D', c='g', ls='-.')\n",
    "lines += plt.gca().lines\n",
    "plt.legend(handles=lines)\n",
    "plt.title('Position D errors')\n",
    "lines = []\n",
    "plt.subplot(6,1,4)\n",
    "plt.plot(errs.att.p[:,0], label='Att-x P', c='r', ls='-')\n",
    "plt.plot(errs.att.p[:,1], label='Att-y P', c='g', ls='-')\n",
    "lines += plt.gca().lines\n",
    "plt.title('Position P errors')\n",
    "plt.subplot(6,1, 5)\n",
    "plt.plot(errs.att.i[:, 0], label='Att-x I', c='r', ls=':')\n",
    "plt.plot(errs.att.i[:, 1], label='Att-y I', c='g', ls=':')\n",
    "lines += plt.gca().lines\n",
    "plt.title('Position I errors')\n",
    "plt.subplot(6,1, 6)\n",
    "plt.plot(errs.att.d[:, 0], label='Att-x D', c='r', ls='-.')\n",
    "plt.plot(errs.att.d[:, 1], label='Att-y D', c='g', ls='-.')\n",
    "lines += plt.gca().lines\n",
    "plt.legend(handles=lines)\n",
    "plt.title('Position D errors')"
   ]
  },
  {
   "cell_type": "code",
   "execution_count": null,
   "id": "d9d99572",
   "metadata": {},
   "outputs": [],
   "source": [
    "%matplotlib notebook\n",
    "fig = plt.figure()\n",
    "xlim = ylim = zlim = (np.min(positions), np.max(positions))\n",
    "ax = fig.add_subplot(projection='3d', xlim=xlim, ylim=ylim, zlim=zlim)\n",
    "ax.set_xlabel('x')\n",
    "ax.set_ylabel('y')\n",
    "ax.set_zlabel('z')\n",
    "ax.plot(positions[:,0], positions[:,1], positions[:,2])"
   ]
  },
  {
   "cell_type": "code",
   "execution_count": null,
   "id": "f1c414f0",
   "metadata": {},
   "outputs": [],
   "source": [
    "%matplotlib inline\n",
    "from scipy.integrate import cumulative_trapezoid\n",
    "plt.plot(cumulative_trapezoid(v_world[:, 0], dx=1e-3, initial=0.))\n",
    "plt.plot(positions[:, 0], ls=':', c='r')"
   ]
  },
  {
   "cell_type": "markdown",
   "id": "97ed2942",
   "metadata": {},
   "source": [
    "### Comparison"
   ]
  },
  {
   "cell_type": "code",
   "execution_count": null,
   "id": "b50bac25",
   "metadata": {
    "scrolled": true
   },
   "outputs": [],
   "source": [
    "m = Multirotor(vp, sp)\n",
    "m.reset()\n",
    "env = RemoteOctorotor(vehicle=m)\n",
    "traj = Trajectory([[0,0,2], [0,5,2], [5,5,2], [5,0,2], [0,0,2]],\n",
    "                  env.vehicle, proximity=0.2, resolution=0.25)\n",
    "\n",
    "env.reset()\n",
    "\n",
    "for _ in range(2000):\n",
    "    state, *_ = env.step(np.asarray([0., 0., vp.mass * sp.g * 1.001, 0., 0., 0.]))"
   ]
  },
  {
   "cell_type": "code",
   "execution_count": null,
   "id": "0deaa89c",
   "metadata": {},
   "outputs": [],
   "source": [
    "# def wind(t, m):\n",
    "#     w_inertial = np.asarray([5 * np.sin(t * 2 * np.pi / 4000), 0, 0])\n",
    "#     dcm = direction_cosine_matrix(*m.orientation)\n",
    "#     return inertial_to_body(w_inertial, dcm)[:2]\n",
    "wind = lambda t, m: [0, 0]"
   ]
  },
  {
   "cell_type": "code",
   "execution_count": null,
   "id": "63818a90",
   "metadata": {
    "scrolled": false
   },
   "outputs": [],
   "source": [
    "# m.propellers[2].params.k_thrust = 4.9e-5\n",
    "# m.propellers[3].params.k_thrust = 4.9e-5\n",
    "# env.vehicle.propellers[2].params.k_thrust = pp.k_thrust * 0.95\n",
    "\n",
    "ctrl = Controller(\n",
    "    PosController(0.5, 0.0, 0.1, 1., m),\n",
    "    AttController(np.asarray([50., 50., 0.1]), 0, np.asarray([10., 10., 0.1]), 1., m),\n",
    "    AltController(144,0,24,1,m)\n",
    ")\n",
    "\n",
    "ctargets = []\n",
    "cactions = []\n",
    "cspeeds = []\n",
    "cpositions = []\n",
    "cvelocities = []\n",
    "corientations = []\n",
    "cerrs = []\n",
    "calloc_errs = []\n",
    "calloc_th = []\n",
    "calloc_to = []\n",
    "cthrusts = []\n",
    "\n",
    "for i, pos in enumerate(traj):\n",
    "    if i==100000: break\n",
    "    # Get prescribed dynamics for system\n",
    "    ref = np.asarray([*pos, 0.])\n",
    "    dynamics = ctrl.step(ref)\n",
    "    thrust, torques = dynamics[0], dynamics[1:]\n",
    "    # Convert dynamics into motor rad/s\n",
    "    action = m.allocate_control(thrust, torques)\n",
    "    action = np.clip(action, a_min=0, a_max=400)\n",
    "    # if i > 30000: action[3] = min(action[3], 300)\n",
    "    # Get resultant forces/torques given propeller states\n",
    "    f, t = m.get_forces_torques(action, state)\n",
    "    # Add disturbances\n",
    "    f[:2] += wind(i, env.vehicle)\n",
    "    # Convert RPM to voltage and apply to simulation\n",
    "    # state, _, done, _ = env.step(normalize_voltage(rpm_to_voltage(action)))\n",
    "    state, *_ = env.step(np.asarray([*f, *t]))\n",
    "    \n",
    "    ctargets.append(pos)\n",
    "    cerrs.append(ctrl.ctrl_p.err)\n",
    "    calloc_th.append(thrust)\n",
    "    calloc_to.append(torques)\n",
    "    calloc_errs.append(np.asarray([thrust, *torques]) - m.alloc @ action**2)\n",
    "    cactions.append(action)\n",
    "#     speeds.append([motor.rpm for motor in m.propellers])\n",
    "    cpositions.append(state[:3])\n",
    "    cvelocities.append(state[3:6])\n",
    "    corientations.append(state[6:9])\n",
    "\n",
    "    if np.any(np.abs(m.orientation[:2]) > np.pi/6): break"
   ]
  },
  {
   "cell_type": "code",
   "execution_count": null,
   "id": "5cf34f6b",
   "metadata": {
    "scrolled": true
   },
   "outputs": [],
   "source": [
    "ctargets = np.asarray(ctargets)\n",
    "cpositions = np.asarray(cpositions)\n",
    "cvelocities = np.asarray(cvelocities)\n",
    "cspeeds = np.asarray(cspeeds)\n",
    "corientations = np.asarray(corientations) * 180 / np.pi\n",
    "cerrs = np.asarray(cerrs)\n",
    "calloc_errs = np.asarray(calloc_errs)\n",
    "calloc_th = np.asarray(calloc_th)\n",
    "calloc_to = np.asarray(calloc_to)\n",
    "cactions = np.asarray(cactions)"
   ]
  },
  {
   "cell_type": "markdown",
   "id": "48d46c79",
   "metadata": {},
   "source": [
    "#### Plotting"
   ]
  },
  {
   "cell_type": "code",
   "execution_count": null,
   "id": "6ce89092",
   "metadata": {},
   "outputs": [],
   "source": [
    "cpositions = np.asarray(cpositions)\n",
    "plt.figure(figsize=(6,6))\n",
    "# plt.plot(targets[:len(positions),0], targets[:len(positions),1], label='Prescribed traj')\n",
    "plt.plot(cpositions[:40000,0], cpositions[:40000,1], label='Gazebo traj')\n",
    "plt.plot(positions[:40000,0], positions[:40000,1], label='Python traj', ls=':', lw=4)\n",
    "plt.gca().set_aspect('equal', 'box')\n",
    "plt.title('XY positions /m')\n",
    "plt.grid(which='both')\n",
    "plt.legend()\n",
    "\n",
    "plt.gca().add_patch(plt.Rectangle((0,5), 1,1))\n",
    "plt.gca().add_patch(plt.Rectangle((4.5,4.5), 1,1))\n",
    "plt.text(1,5.5, \"5kg hovering object\")\n",
    "plt.text(2,4, \"100kg ground obstacle\")"
   ]
  },
  {
   "cell_type": "code",
   "execution_count": null,
   "id": "9d4342da",
   "metadata": {
    "scrolled": false
   },
   "outputs": [],
   "source": [
    "plt.figure(figsize=(14,10.5))\n",
    "plot_grid = (3,2)\n",
    "plt.subplot(*plot_grid,1)\n",
    "\n",
    "plt.plot(cpositions[:, 0], label='x', c='r')\n",
    "plt.plot(ctargets[:len(cpositions), 0], c='r', ls=':')\n",
    "plt.plot(cpositions[:, 1], label='y', c='g')\n",
    "plt.plot(targets[:len(positions), 1], c='g', ls=':')\n",
    "plt.plot(cpositions[:, 2], label='z', c='b')\n",
    "lines = plt.gca().lines[::2]\n",
    "plt.ylabel('Position /m')\n",
    "plt.twinx()\n",
    "plt.plot(corientations[:, 0], label='roll', c='c', ls=':')\n",
    "plt.plot(corientations[:, 1], label='pitch', c='m', ls=':')\n",
    "plt.plot(corientations[:, 2], label='yaw', c='y', ls=':')\n",
    "plt.ylabel('Orientation /deg')\n",
    "plt.legend(handles=plt.gca().lines + lines, ncol=2)\n",
    "plt.title('Position and Orientation')\n",
    "\n",
    "plt.subplot(*plot_grid,2)\n",
    "for i in range(cactions.shape[1]):\n",
    "    l, = plt.plot(cactions[:,i], label='prop %d' % i)\n",
    "#     plt.plot(speeds[:,i], c=l.get_c())\n",
    "lines = plt.gca().lines\n",
    "plt.legend(handles=lines, ncol=2)\n",
    "plt.title('Motor speeds /RPM')\n",
    "\n",
    "plt.subplot(*plot_grid,3)\n",
    "v_world = np.zeros_like(velocities)\n",
    "for i, (v, o) in enumerate(zip(cvelocities, corientations)):\n",
    "    dcm = direction_cosine_matrix(*o)\n",
    "    v_world[i] = body_to_inertial(v, dcm)\n",
    "for i, c, a in zip(range(3), 'rgb', 'xyz'):\n",
    "#     plt.plot(v_world[:,i], label='Velocity %s' % a, c=c)\n",
    "    plt.plot(cvelocities[:,i], label='Velocity %s' % a, c=c)\n",
    "plt.legend()\n",
    "plt.title('Velocities')\n",
    "\n",
    "plt.subplot(*plot_grid,4)\n",
    "plt.title('Controller allocated dynamics')\n",
    "l = plt.plot(calloc_th, label='Ctrl Thrust')\n",
    "plt.ylabel('Force /N')\n",
    "plt.twinx()\n",
    "for i, c, a in zip(range(3), 'rgb', 'xyz'):\n",
    "    plt.plot(calloc_to[:,i], label='Ctrl Torque %s' % a, c=c)\n",
    "plt.ylabel('Torque /Nm')\n",
    "plt.legend(handles=plt.gca().lines + l, ncol=2)\n",
    "\n",
    "plt.subplot(*plot_grid,5)\n",
    "lines = plt.plot(calloc_errs[:, 0], label='Thrust err', c='b')\n",
    "plt.ylabel('Thrust /N')\n",
    "plt.twinx()\n",
    "plt.plot(alloc_errs[:, 1], label='Torque x err', ls=':')\n",
    "plt.plot(alloc_errs[:, 2], label='Torque y err', ls=':')\n",
    "plt.plot(alloc_errs[:, 3], label='Torque z err', ls=':')\n",
    "plt.legend(handles = plt.gca().lines + lines, ncol=2)\n",
    "plt.ylabel('Torque /Nm')\n",
    "plt.title('Allocation Errors')\n",
    "\n",
    "plt.subplot(*plot_grid,6)\n",
    "plt.plot(targets[:len(cpositions),0], targets[:len(cpositions),1], label='Prescribed traj')\n",
    "plt.plot(cpositions[:,0], cpositions[:,1], label='Actual traj')\n",
    "plt.gca().set_aspect('equal', 'box')\n",
    "plt.title('XY positions /m')\n",
    "plt.legend()\n",
    "\n",
    "plt.tight_layout()"
   ]
  },
  {
   "cell_type": "code",
   "execution_count": null,
   "id": "da44d602",
   "metadata": {},
   "outputs": [],
   "source": [
    "plt.figure(figsize=(6,6))\n",
    "plt.plot(velocities[:40000,0], c='r', label='x velocity, Python')\n",
    "plt.plot(cvelocities[:40000,0], c='r', ls=':', lw=2, label='x velocity, Gazebo')\n",
    "plt.plot(velocities[:40000,1], c='g', label='y velocity, Python')\n",
    "plt.plot(cvelocities[:40000,1], c='g', ls=':', lw=2, label='y velocity, Gazebo')\n",
    "plt.grid(which='both')\n",
    "plt.ylabel('Velocity / m/s')\n",
    "plt.title('Collision physics')\n",
    "plt.legend(ncol=1)"
   ]
  },
  {
   "cell_type": "markdown",
   "id": "e87063b0",
   "metadata": {},
   "source": [
    "### Variations"
   ]
  },
  {
   "cell_type": "code",
   "execution_count": null,
   "id": "7c0024dc",
   "metadata": {
    "scrolled": true
   },
   "outputs": [],
   "source": [
    "from multirotor.helpers import vehicle_params_factory"
   ]
  },
  {
   "cell_type": "code",
   "execution_count": null,
   "id": "cb2cc89b",
   "metadata": {},
   "outputs": [],
   "source": [
    "vp4 = vehicle_params_factory(4, m_prop=0.125, d_prop=0.25, params=pp, m_body=4)\n",
    "vp6 = vehicle_params_factory(6, m_prop=0.125, d_prop=0.5, params=pp, m_body=6)\n",
    "vp8 = vehicle_params_factory(8, m_prop=0.125, d_prop=0.75, params=pp, m_body=8)\n",
    "\n",
    "positionsx = []\n",
    "for vpx in [vp4, vp6, vp8]:\n",
    "    m = Multirotor(vpx, sp)\n",
    "    m.reset()\n",
    "    # env = RemoteOctorotor(vehicle=m)\n",
    "    env = LocalOctorotor(vehicle=m)\n",
    "    env.vehicle.state[2] = 1.\n",
    "    traj = Trajectory([[0,0,2], [2.5,5,2], [5,0,2], [0,0,2]],\n",
    "                      env.vehicle, proximity=0.2, resolution=0.5)\n",
    "\n",
    "    env.reset()\n",
    "\n",
    "    for _ in range(2000):\n",
    "        state, *_ = env.step(np.asarray([0., 0., vpx.mass * sp.g * 1.001, 0., 0., 0.]))\n",
    "    \n",
    "    ctrl = Controller(\n",
    "        PosController(0.5, 0.0, 0.1, 1., m),\n",
    "        AttController(np.asarray([50., 50., 0.1]), 0, np.asarray([10., 10., 0.1]), 1., m),\n",
    "        AltController(144,0,24,1,m)\n",
    "    )\n",
    "\n",
    "    targets = []\n",
    "    actions = []\n",
    "    speeds = []\n",
    "    positions = []\n",
    "    velocities = []\n",
    "    orientations = []\n",
    "    errs = []\n",
    "    alloc_errs = []\n",
    "    alloc_th = []\n",
    "    alloc_to = []\n",
    "    thrusts = []\n",
    "\n",
    "    for i, pos in enumerate(traj):\n",
    "        if i==60000: break\n",
    "        # Get prescribed dynamics for system\n",
    "        ref = np.asarray([*pos, 0.])\n",
    "        dynamics = ctrl.step(ref)\n",
    "        thrust, torques = dynamics[0], dynamics[1:]\n",
    "#         print(torques)\n",
    "        # Convert dynamics into motor rad/s\n",
    "        action = m.allocate_control(thrust, torques)\n",
    "        action = np.clip(action, a_min=0, a_max=400)\n",
    "        # if i > 30000: action[3] = min(action[3], 300)\n",
    "        # Get resultant forces/torques given propeller states\n",
    "        f, t = m.get_forces_torques(action, state)\n",
    "        # Add disturbances\n",
    "        f[:2] += np.asarray([2, 2])\n",
    "        # Convert RPM to voltage and apply to simulation\n",
    "        # state, _, done, _ = env.step(normalize_voltage(rpm_to_voltage(action)))\n",
    "        state, *_ = env.step(np.asarray([*f, *t]))\n",
    "\n",
    "        targets.append(pos)\n",
    "        errs.append(ctrl.ctrl_p.err)\n",
    "        alloc_th.append(thrust)\n",
    "        alloc_to.append(torques)\n",
    "        alloc_errs.append(np.asarray([thrust, *torques]) - m.alloc @ action**2)\n",
    "        actions.append(action)\n",
    "    #     speeds.append([motor.rpm for motor in m.propellers])\n",
    "        positions.append(state[:3])\n",
    "        velocities.append(state[3:6])\n",
    "        orientations.append(state[6:9])\n",
    "\n",
    "        if np.any(np.abs(m.orientation[:2]) > np.pi/6): break\n",
    "    positionsx.append(np.asarray(positions))"
   ]
  },
  {
   "cell_type": "code",
   "execution_count": null,
   "id": "0b8e3a15",
   "metadata": {},
   "outputs": [],
   "source": [
    "plt.figure(figsize=(6,6))\n",
    "for cpositions, label, ls, lw in zip(\n",
    "    positionsx,\n",
    "    ('quad-rotor', 'hexa-rotor', 'octo-rotor'),\n",
    "    ('-','--',':'),\n",
    "    (2,3,4)\n",
    "):\n",
    "    cpositions = np.asarray(cpositions)\n",
    "    plt.plot(cpositions[:,0], cpositions[:,1], label=label, ls=ls, lw=lw)\n",
    "plt.gca().set_aspect('equal', 'box')\n",
    "plt.title('XY positions /m')\n",
    "plt.grid(which='both')\n",
    "plt.legend()"
   ]
  }
 ],
 "metadata": {
  "kernelspec": {
   "display_name": "Python 3 (ipykernel)",
   "language": "python",
   "name": "python3"
  },
  "language_info": {
   "codemirror_mode": {
    "name": "ipython",
    "version": 3
   },
   "file_extension": ".py",
   "mimetype": "text/x-python",
   "name": "python",
   "nbconvert_exporter": "python",
   "pygments_lexer": "ipython3",
   "version": "3.9.10"
  }
 },
 "nbformat": 4,
 "nbformat_minor": 5
}
