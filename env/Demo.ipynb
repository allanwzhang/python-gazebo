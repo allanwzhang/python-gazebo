{
 "cells": [
  {
   "cell_type": "code",
   "execution_count": null,
   "id": "129ba874",
   "metadata": {},
   "outputs": [],
   "source": [
    "%reload_ext autoreload\n",
    "%autoreload 2\n",
    "%matplotlib inline\n",
    "import time\n",
    "\n",
    "import matplotlib.pyplot as plt\n",
    "import gym\n",
    "import numpy as np\n",
    "import pygazebo\n",
    "from pygazebo.msg.v11.world_control_pb2 import WorldControl\n",
    "from tqdm.auto import tqdm, trange\n",
    "\n",
    "from multirotor.helpers import control_allocation_matrix\n",
    "from multirotor.vehicle import MotorParams, VehicleParams, PropellerParams, SimulationParams\n",
    "from multirotor.control import PositionController, AttitudeController, PosAttController\n",
    "from multirotor.control import PosController, AttController, AltController, Controller\n",
    "from multirotor.simulation import Multirotor, Propeller\n",
    "from multirotor.visualize import VehicleDrawing\n",
    "from multirotor.coords import body_to_inertial, direction_cosine_matrix, angular_to_euler_rate\n",
    "from gym_env import Octorotor\n",
    "from gazebo_comms import GazeboCommms\n",
    "from msgs.messages_pb2 import Action, State"
   ]
  },
  {
   "cell_type": "markdown",
   "id": "9a31149f",
   "metadata": {},
   "source": [
    "### Parameters"
   ]
  },
  {
   "cell_type": "code",
   "execution_count": null,
   "id": "1ba2a2fe",
   "metadata": {},
   "outputs": [],
   "source": [
    "# Tarot T18 params\n",
    "pp = PropellerParams(\n",
    "    moment_of_inertia=1.86e-6,\n",
    "    k_thrust=9.8419e-05,\n",
    "    k_torque=1.8503e-06\n",
    ")\n",
    "vp = VehicleParams(\n",
    "    propellers=[pp] * 8,\n",
    "    angles=np.linspace(0, -2*np.pi, num=8, endpoint=False) + 0.375 * np.pi,\n",
    "    distances=np.ones(8) * 0.635,\n",
    "    clockwise=[-1,1,-1,1,-1,1,-1,1],\n",
    "    mass=10.66,\n",
    "    inertia_matrix=np.asarray([\n",
    "        [0.2206, 0, 0],\n",
    "        [0, 0.2206, 0.],\n",
    "        [0, 0, 0.4238]\n",
    "    ])\n",
    ")\n",
    "sp = SimulationParams(0.001, 9.81)\n",
    "alloc, alloc_inverse = control_allocation_matrix(vp)"
   ]
  },
  {
   "cell_type": "markdown",
   "id": "17f3b34d",
   "metadata": {
    "heading_collapsed": true
   },
   "source": [
    "### Python-only"
   ]
  },
  {
   "cell_type": "code",
   "execution_count": null,
   "id": "a7197b2e",
   "metadata": {
    "hidden": true
   },
   "outputs": [],
   "source": [
    "m = Multirotor(vp, sp)\n",
    "m.reset()\n",
    "m.propellers = [Propeller(pp, sp, use_thrust_constant=True) for _ in range(8)]"
   ]
  },
  {
   "cell_type": "code",
   "execution_count": null,
   "id": "30aa5565",
   "metadata": {
    "hidden": true
   },
   "outputs": [],
   "source": [
    "# m.state[6:9] = np.asarray([0, np.pi/6, 0])\n",
    "m.reset()\n",
    "action = m.allocate_control(m.weight, np.asarray([0, 1e-1, 0]))\n",
    "for i in range(500): m.step(action)\n",
    "print(m.orientation * 180 / np.pi)"
   ]
  },
  {
   "cell_type": "code",
   "execution_count": null,
   "id": "add19deb",
   "metadata": {
    "hidden": true
   },
   "outputs": [],
   "source": [
    "# issue with angle calculation formula in physics.py\n",
    "# allocation works well when controlling fans to get required torque\n",
    "np.sign(action-action.mean())"
   ]
  },
  {
   "cell_type": "code",
   "execution_count": null,
   "id": "3216b929",
   "metadata": {
    "hidden": true
   },
   "outputs": [],
   "source": [
    "m = Multirotor(vp, sp)\n",
    "m.reset()\n",
    "m.propellers = [Propeller(pp, sp, use_thrust_constant=True) for _ in range(8)]\n",
    "ctrl = Controller(\n",
    "    PosController(0.1, 0.0, 0., 1., m),\n",
    "    AttController(np.asarray([10., 10., 0]), 0, 0., 1., m),\n",
    "    AltController(10,0,0,1,m)\n",
    ")\n",
    "targets = np.zeros((8000, 3))\n",
    "# +y\n",
    "targets[:2000, 0] = 0.\n",
    "# targets[:2000, 1] = np.linspace(0, 2., num=2000)\n",
    "# targets[:2000,2] = np.linspace(0,2, num=2000)\n",
    "# +x\n",
    "targets[2000:4000, 0] = 1.\n",
    "# targets[2000:4000, 1] = 2.\n",
    "# targets[2000:4000,2] = 2.\n",
    "# -y\n",
    "targets[4000:6000, 0] = 1.\n",
    "# targets[4000:6000, 1] = np.linspace(2., 0., num=2000)\n",
    "# targets[4000:6000,2] = np.linspace(2,0, num=2000)\n",
    "# -x\n",
    "targets[6000:8000, 0] = 0.\n",
    "# targets[6000:8000, 1] = 0\n",
    "# targets[6000:8000,2] = 0\n",
    "\n",
    "positions = []\n",
    "errs = []\n",
    "alloc_th = []\n",
    "alloc_to = []\n",
    "orientations = []\n",
    "actions = []\n",
    "for i in trange(len(targets), leave=False):\n",
    "    ref = np.asarray([*targets[i], 0.])\n",
    "    # Get prescribed dynamics for system\n",
    "    dynamics = ctrl.step(ref)\n",
    "    thrust, torques = dynamics[0], dynamics[1:]\n",
    "    errs.append(ctrl.ctrl_p.err)\n",
    "    alloc_th.append(thrust)\n",
    "    alloc_to.append(torques)\n",
    "    # Convert dynamics into motor RPMs\n",
    "    action = m.allocate_control(thrust, torques)\n",
    "    actions.append(action)\n",
    "    m.step(action)\n",
    "    positions.append(m.position)\n",
    "    orientations.append(m.orientation)\n",
    "#     if i==N: break\n",
    "\n",
    "positions = np.asarray(positions)\n",
    "errs = np.asarray(errs)\n",
    "alloc_th = np.asarray(alloc_th)\n",
    "alloc_to = np.asarray(alloc_to)\n",
    "orientations = np.asarray(orientations)\n",
    "actions = np.asarray(actions)"
   ]
  },
  {
   "cell_type": "code",
   "execution_count": null,
   "id": "a045fed5",
   "metadata": {
    "hidden": true
   },
   "outputs": [],
   "source": [
    "plt.figure(figsize=(14,9))\n",
    "plt.subplot(1,2,1)\n",
    "for p,l, c in zip(positions.T, 'xyz', 'rgb'):\n",
    "    plt.plot(p, label=l, c=c)\n",
    "lines = plt.gca().lines\n",
    "plt.twinx()\n",
    "for p,l,c in zip(orientations.T, ('roll', 'pitch', 'yaw'), 'cmy'):\n",
    "    plt.plot(p * 180 / np.pi, label=l, ls=':', c=c)\n",
    "plt.legend(handles=plt.gca().lines+lines)\n",
    "\n",
    "plt.subplot(1,2,2)\n",
    "l = plt.plot(alloc_th, label='Ctrl Thrust')\n",
    "plt.twinx()\n",
    "for i, c, a in zip(range(3), 'rgb', 'xyz'):\n",
    "    plt.plot(alloc_to[:,i], label='Ctrl Torque %s' % a, c=c)\n",
    "plt.legend(handles=plt.gca().lines + l)"
   ]
  },
  {
   "cell_type": "markdown",
   "id": "9b19958f",
   "metadata": {
    "heading_collapsed": true
   },
   "source": [
    "### Control mechanism"
   ]
  },
  {
   "cell_type": "code",
   "execution_count": null,
   "id": "ee2d0397",
   "metadata": {
    "hidden": true
   },
   "outputs": [],
   "source": [
    "env = Octorotor(gym_fc_obs=False)"
   ]
  },
  {
   "cell_type": "code",
   "execution_count": null,
   "id": "6329c38b",
   "metadata": {
    "hidden": true,
    "scrolled": true
   },
   "outputs": [],
   "source": [
    "# The relationship between RPM and voltage\n",
    "vels = []\n",
    "v_vels = []\n",
    "for i in range(0, 20):\n",
    "    env.reset()\n",
    "    v_vels.append([])\n",
    "    for _ in range(0, 200):\n",
    "        vel = env.voltage_to_angular_vel(np.ones(8) * i)[0] * 60 / (2 * np.pi)\n",
    "        v_vels[-1].append(vel)\n",
    "    vels.append(vel)\n",
    "\n",
    "# plt.figure(figsize=(14,5))\n",
    "# plt.subplot(1,2,1)\n",
    "# plt.plot(np.arange(0, 20), vels)\n",
    "# plt.ylabel('RPM after 200ms of constant V signal')\n",
    "# plt.xlabel('Voltage /V');\n",
    "# plt.subplot(1,2,2)\n",
    "# for i, v in enumerate(v_vels):\n",
    "#     plt.plot(v, label='%d volts' % i, ls=':')\n",
    "# plt.xlabel('Time /ms')\n",
    "# plt.ylabel('RPM')\n",
    "# plt.title('RPM response to voltages')\n",
    "\n",
    "rpm_voltage_ratio = (vels[-1] - vels[0])[0] / 20.\n",
    "print(rpm_voltage_ratio)"
   ]
  },
  {
   "cell_type": "code",
   "execution_count": null,
   "id": "2201e548",
   "metadata": {
    "hidden": true
   },
   "outputs": [],
   "source": [
    "# Forces/ torques to rpm\n",
    "def allocate_control(thrust: float, torques: np.ndarray) -> np.ndarray:\n",
    "    vec = np.asarray([thrust, *torques])\n",
    "    return np.sqrt(\n",
    "        np.clip(alloc_inverse @ vec, a_min=0., a_max=None)\n",
    "    ) * 60 / (2 * np.pi)\n",
    "# rpm to voltage\n",
    "def rpm_to_voltage(rpm):\n",
    "    return rpm / rpm_voltage_ratio\n",
    "# voltage in -1 to 1 range (for NNs)\n",
    "def normalize_voltage(voltage):\n",
    "    return (voltage - 10) / 20\n",
    "def rpm_to_rads(rpm):\n",
    "    return rpm * np.pi / 30"
   ]
  },
  {
   "cell_type": "code",
   "execution_count": null,
   "id": "ec54558c",
   "metadata": {
    "hidden": true
   },
   "outputs": [],
   "source": [
    "# RPM to generate thrust to match weight\n",
    "action_rpm = allocate_control(9.8*10.66, [0,0,0])\n",
    "print(action_rpm[0])\n",
    "\n",
    "action_v = rpm_to_voltage(action_rpm)\n",
    "print(action_v[0])\n",
    "\n",
    "action_n = normalize_voltage(action_v)\n",
    "print(action_n[0])"
   ]
  },
  {
   "cell_type": "markdown",
   "id": "6ffe2e5a",
   "metadata": {},
   "source": [
    "### Message Passing"
   ]
  },
  {
   "cell_type": "code",
   "execution_count": null,
   "id": "47882bb2",
   "metadata": {},
   "outputs": [],
   "source": [
    "gc = GazeboCommms()\n",
    "gc.manager.publications()"
   ]
  },
  {
   "cell_type": "code",
   "execution_count": null,
   "id": "7ef93bc8",
   "metadata": {},
   "outputs": [],
   "source": [
    "a = Action()\n",
    "a.type = a.DYNAMICS\n",
    "a.values.extend([0., 0., 0., 0., 0., 0.])\n",
    "\n",
    "# gc.send_TCP(a, '/tarot/action')"
   ]
  },
  {
   "cell_type": "code",
   "execution_count": null,
   "id": "dda4b5ef",
   "metadata": {},
   "outputs": [],
   "source": [
    "# Reset\n",
    "a = Action()\n",
    "a.reset = True\n",
    "# s = State()\n",
    "a.state.position.extend([1,0,1])\n",
    "a.state.velocity.extend([3,0,0])\n",
    "a.state.orientation.extend([0,0,0])\n",
    "a.state.angular_rate.extend([0,0,0])\n",
    "a\n",
    "# gc.send_TCP(a, '/tarot/action')"
   ]
  },
  {
   "cell_type": "code",
   "execution_count": null,
   "id": "6158f2ce",
   "metadata": {
    "scrolled": true
   },
   "outputs": [],
   "source": [
    "gc.send_UDP(a)"
   ]
  },
  {
   "cell_type": "code",
   "execution_count": null,
   "id": "cec91ab3",
   "metadata": {},
   "outputs": [],
   "source": [
    "# For some reason, the first send of TCP message doesnt work\n",
    "c = WorldControl()\n",
    "c.reset.all = True\n",
    "# c.multi_step = 100\n",
    "gc.send_TCP(c, '/gazebo/test/world_control')"
   ]
  },
  {
   "cell_type": "markdown",
   "id": "9eb34672",
   "metadata": {},
   "source": [
    "### Simulation"
   ]
  },
  {
   "cell_type": "code",
   "execution_count": null,
   "id": "6364b7cc",
   "metadata": {},
   "outputs": [],
   "source": [
    "from gym_env import RemoteOctorotor, LocalOctorotor\n",
    "from trajectories import Trajectory"
   ]
  },
  {
   "cell_type": "code",
   "execution_count": null,
   "id": "a98de44f",
   "metadata": {
    "scrolled": true
   },
   "outputs": [],
   "source": [
    "m = Multirotor(vp, sp)\n",
    "m.propellers = [Propeller(pp, sp, use_thrust_constant=True) for _ in range(8)]\n",
    "m.reset()\n",
    "# env = RemoteOctorotor(vehicle=m)\n",
    "env = RemoteOctorotor(vehicle=m)\n",
    "traj = Trajectory([[0,0,2], [0,5,2], [5,5,2], [5,0,2], [0,0,2]],\n",
    "                  env.vehicle, proximity=0.2, resolution=0.25)"
   ]
  },
  {
   "cell_type": "code",
   "execution_count": null,
   "id": "53e1bc12",
   "metadata": {},
   "outputs": [],
   "source": [
    "env.reset()"
   ]
  },
  {
   "cell_type": "code",
   "execution_count": null,
   "id": "e5e5b80b",
   "metadata": {},
   "outputs": [],
   "source": [
    "for _ in range(2000):\n",
    "    state, *_ = env.step([0., 0., vp.mass * sp.g * 1.001, 0., 0., 0.])"
   ]
  },
  {
   "cell_type": "code",
   "execution_count": null,
   "id": "a5861468",
   "metadata": {},
   "outputs": [],
   "source": [
    "state"
   ]
  },
  {
   "cell_type": "markdown",
   "id": "c8cf7795",
   "metadata": {},
   "source": [
    "#### Attitude + Position"
   ]
  },
  {
   "cell_type": "code",
   "execution_count": null,
   "id": "013a4d5f",
   "metadata": {},
   "outputs": [],
   "source": [
    "# wind = lambda t: [10 * np.sin(t * 2 * np.pi / 4000), 0]\n",
    "wind = lambda t: [0, 0]"
   ]
  },
  {
   "cell_type": "code",
   "execution_count": null,
   "id": "38a12ae8",
   "metadata": {},
   "outputs": [],
   "source": [
    "# m.propellers[2].params.k_thrust = 4.9e-5\n",
    "# m.propellers[3].params.k_thrust = 4.9e-5\n",
    "\n",
    "ctrl = Controller(\n",
    "    PosController(0.5, 0.0, 0.1, 1., m),\n",
    "    AttController(np.asarray([50., 50., 0.1]), 0, np.asarray([10., 10., 0.1]), 1., m),\n",
    "    AltController(144,0,24,1,m)\n",
    ")\n",
    "\n",
    "targets = []\n",
    "actions = []\n",
    "speeds = []\n",
    "positions = []\n",
    "velocities = []\n",
    "orientations = []\n",
    "errs = []\n",
    "alloc_errs = []\n",
    "alloc_th = []\n",
    "alloc_to = []\n",
    "thrusts = []\n",
    "\n",
    "for i, pos in enumerate(traj):\n",
    "    # Get prescribed dynamics for system\n",
    "    ref = np.asarray([*pos, 0.])\n",
    "    dynamics = ctrl.step(ref)\n",
    "    thrust, torques = dynamics[0], dynamics[1:]\n",
    "    # Convert dynamics into motor RPMs\n",
    "    action = m.allocate_control(thrust, torques)\n",
    "    # Get resultant forces/torques given propeller states\n",
    "    f, t = m.get_forces_torques(action, state)\n",
    "    # Add disturbances\n",
    "    f[:2] = wind(i)\n",
    "    # Convert RPM to voltage and apply to simulation\n",
    "    # state, _, done, _ = env.step(normalize_voltage(rpm_to_voltage(action)))\n",
    "    state, *_ = env.step([*f, *t])\n",
    "    \n",
    "    targets.append(pos)\n",
    "    errs.append(ctrl.ctrl_p.err)\n",
    "    alloc_th.append(thrust)\n",
    "    alloc_to.append(torques)\n",
    "    alloc_errs.append(np.asarray([thrust, *torques]) - m.alloc @ action**2)\n",
    "    actions.append(action)\n",
    "    speeds.append([motor.rpm for motor in m.propellers])\n",
    "    positions.append(state[:3])\n",
    "    velocities.append(state[3:6])\n",
    "    orientations.append(state[6:9])\n",
    "\n",
    "    if np.any(np.abs(m.orientation[:2]) > np.pi/6): break"
   ]
  },
  {
   "cell_type": "code",
   "execution_count": null,
   "id": "1cf17dc7",
   "metadata": {
    "scrolled": true
   },
   "outputs": [],
   "source": [
    "targets = np.asarray(targets)\n",
    "positions = np.asarray(positions)\n",
    "velocities = np.asarray(velocities)\n",
    "speeds = np.asarray(speeds)\n",
    "orientations = np.asarray(orientations) * 180 / np.pi\n",
    "errs = np.asarray(errs)\n",
    "alloc_errs = np.asarray(alloc_errs)\n",
    "alloc_th = np.asarray(alloc_th)\n",
    "alloc_to = np.asarray(alloc_to)"
   ]
  },
  {
   "cell_type": "markdown",
   "id": "df33808b",
   "metadata": {},
   "source": [
    "#### Plotting"
   ]
  },
  {
   "cell_type": "code",
   "execution_count": null,
   "id": "81a8043e",
   "metadata": {},
   "outputs": [],
   "source": [
    "plt.figure(figsize=(14,10))\n",
    "plt.subplot(3,2,1)\n",
    "\n",
    "plt.plot(positions[:, 0], label='x', c='r')\n",
    "plt.plot(targets[:len(positions), 0], c='r', ls=':')\n",
    "plt.plot(positions[:, 1], label='y', c='g')\n",
    "plt.plot(targets[:len(positions), 1], c='g', ls=':')\n",
    "plt.plot(positions[:, 2], label='z', c='b')\n",
    "lines = plt.gca().lines[::2]\n",
    "plt.ylabel('Position /m')\n",
    "plt.twinx()\n",
    "plt.plot(orientations[:, 0], label='roll', c='c', ls=':')\n",
    "plt.plot(orientations[:, 1], label='pitch', c='m', ls=':')\n",
    "plt.plot(orientations[:, 2], label='yaw', c='y', ls=':')\n",
    "plt.ylabel('Orientation /deg')\n",
    "plt.legend(handles=plt.gca().lines + lines)\n",
    "\n",
    "plt.subplot(3,2,2)\n",
    "actions = np.asarray(actions)\n",
    "for i in range(actions.shape[1]):\n",
    "    l, = plt.plot(actions[:,i], label='prop %d' % i)\n",
    "    plt.plot(speeds[:,i], c=l.get_c())\n",
    "lines = plt.gca().lines[::2]\n",
    "plt.legend(handles=lines)\n",
    "plt.title('Motor speeds /RPM')\n",
    "\n",
    "plt.subplot(3,2,3)\n",
    "v_world = np.zeros_like(velocities)\n",
    "for i, (v, o) in enumerate(zip(velocities, orientations)):\n",
    "    dcm = direction_cosine_matrix(*o)\n",
    "    v_world[i] = body_to_inertial(v, dcm)\n",
    "for i, c, a in zip(range(3), 'rgb', 'xyz'):\n",
    "#     plt.plot(v_world[:,i], label='Velocity %s' % a, c=c)\n",
    "    plt.plot(velocities[:,i], label='Velocity %s' % a, c=c)\n",
    "plt.title('Velocities')\n",
    "\n",
    "plt.subplot(3,2,4)\n",
    "plt.title('Controller allocated dynamics')\n",
    "l = plt.plot(alloc_th, label='Ctrl Thrust')\n",
    "plt.ylabel('Force /N')\n",
    "plt.twinx()\n",
    "for i, c, a in zip(range(3), 'rgb', 'xyz'):\n",
    "    plt.plot(alloc_to[:,i], label='Ctrl Torque %s' % a, c=c)\n",
    "plt.ylabel('Torque /Nm')\n",
    "plt.legend(handles=plt.gca().lines + l)\n",
    "\n",
    "plt.subplot(3,2,5)\n",
    "lines = plt.plot(alloc_errs[:, 0], label='Thrust err', c='b')\n",
    "plt.twinx()\n",
    "plt.plot(alloc_errs[:, 1], label='Torque x err', ls=':')\n",
    "plt.plot(alloc_errs[:, 2], label='Torque y err', ls=':')\n",
    "plt.plot(alloc_errs[:, 3], label='Torque z err', ls=':')\n",
    "plt.legend(handles = plt.gca().lines + lines)\n",
    "plt.title('Allocation Errors')\n",
    "\n",
    "plt.subplot(3,2,6)\n",
    "plt.plot(targets[:len(positions),0], targets[:len(positions),1], label='Prescribed traj')\n",
    "plt.plot(positions[:,0], positions[:,1], label='Actual traj')\n",
    "plt.gca().set_aspect('equal', 'box')\n",
    "plt.title('XY positions')\n",
    "plt.legend()\n",
    "\n",
    "plt.tight_layout()"
   ]
  }
 ],
 "metadata": {
  "kernelspec": {
   "display_name": "Python 3 (ipykernel)",
   "language": "python",
   "name": "python3"
  },
  "language_info": {
   "codemirror_mode": {
    "name": "ipython",
    "version": 3
   },
   "file_extension": ".py",
   "mimetype": "text/x-python",
   "name": "python",
   "nbconvert_exporter": "python",
   "pygments_lexer": "ipython3",
   "version": "3.9.10"
  }
 },
 "nbformat": 4,
 "nbformat_minor": 5
}
